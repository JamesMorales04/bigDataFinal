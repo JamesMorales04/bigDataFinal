{
 "cells": [
  {
   "cell_type": "code",
   "execution_count": 1,
   "metadata": {},
   "outputs": [
    {
     "data": {
      "application/vnd.jupyter.widget-view+json": {
       "model_id": "b13e5ebe7c0f49ec813a0f5e64618260",
       "version_major": 2,
       "version_minor": 0
      },
      "text/plain": [
       "VBox()"
      ]
     },
     "metadata": {},
     "output_type": "display_data"
    },
    {
     "name": "stdout",
     "output_type": "stream",
     "text": [
      "Starting Spark application\n"
     ]
    },
    {
     "data": {
      "text/html": [
       "<table>\n",
       "<tr><th>ID</th><th>YARN Application ID</th><th>Kind</th><th>State</th><th>Spark UI</th><th>Driver log</th><th>Current session?</th></tr><tr><td>2</td><td>application_1606591453882_0004</td><td>pyspark</td><td>idle</td><td><a target=\"_blank\" href=\"http://ip-172-31-56-107.ec2.internal:20888/proxy/application_1606591453882_0004/\">Link</a></td><td><a target=\"_blank\" href=\"http://ip-172-31-49-231.ec2.internal:8042/node/containerlogs/container_1606591453882_0004_01_000001/livy\">Link</a></td><td>✔</td></tr></table>"
      ],
      "text/plain": [
       "<IPython.core.display.HTML object>"
      ]
     },
     "metadata": {},
     "output_type": "display_data"
    },
    {
     "data": {
      "application/vnd.jupyter.widget-view+json": {
       "model_id": "",
       "version_major": 2,
       "version_minor": 0
      },
      "text/plain": [
       "FloatProgress(value=0.0, bar_style='info', description='Progress:', layout=Layout(height='25px', width='50%'),…"
      ]
     },
     "metadata": {},
     "output_type": "display_data"
    },
    {
     "name": "stdout",
     "output_type": "stream",
     "text": [
      "SparkSession available as 'spark'.\n"
     ]
    },
    {
     "data": {
      "application/vnd.jupyter.widget-view+json": {
       "model_id": "",
       "version_major": 2,
       "version_minor": 0
      },
      "text/plain": [
       "FloatProgress(value=0.0, bar_style='info', description='Progress:', layout=Layout(height='25px', width='50%'),…"
      ]
     },
     "metadata": {},
     "output_type": "display_data"
    }
   ],
   "source": [
    "# Importa las librerias de spark\n",
    "from pyspark.sql import SparkSession"
   ]
  },
  {
   "cell_type": "code",
   "execution_count": 2,
   "metadata": {},
   "outputs": [
    {
     "data": {
      "application/vnd.jupyter.widget-view+json": {
       "model_id": "02d79415c14049578648636223d60c48",
       "version_major": 2,
       "version_minor": 0
      },
      "text/plain": [
       "VBox()"
      ]
     },
     "metadata": {},
     "output_type": "display_data"
    },
    {
     "data": {
      "application/vnd.jupyter.widget-view+json": {
       "model_id": "",
       "version_major": 2,
       "version_minor": 0
      },
      "text/plain": [
       "FloatProgress(value=0.0, bar_style='info', description='Progress:', layout=Layout(height='25px', width='50%'),…"
      ]
     },
     "metadata": {},
     "output_type": "display_data"
    }
   ],
   "source": [
    "# Crea (u obtiene) una sesion de spark\n",
    "spark=SparkSession.builder.appName('data_processing').getOrCreate()"
   ]
  },
  {
   "cell_type": "code",
   "execution_count": 3,
   "metadata": {},
   "outputs": [
    {
     "data": {
      "application/vnd.jupyter.widget-view+json": {
       "model_id": "4551c590f3544f9a9c37f76e13246259",
       "version_major": 2,
       "version_minor": 0
      },
      "text/plain": [
       "VBox()"
      ]
     },
     "metadata": {},
     "output_type": "display_data"
    },
    {
     "data": {
      "application/vnd.jupyter.widget-view+json": {
       "model_id": "",
       "version_major": 2,
       "version_minor": 0
      },
      "text/plain": [
       "FloatProgress(value=0.0, bar_style='info', description='Progress:', layout=Layout(height='25px', width='50%'),…"
      ]
     },
     "metadata": {},
     "output_type": "display_data"
    }
   ],
   "source": [
    "# Se cargan los datos desde s3\n",
    "df=spark.read.csv('s3://bigdata-st0263/datasets/datos.csv',inferSchema=True,header=True)"
   ]
  },
  {
   "cell_type": "code",
   "execution_count": 4,
   "metadata": {},
   "outputs": [
    {
     "data": {
      "application/vnd.jupyter.widget-view+json": {
       "model_id": "7a05ad8b48c5447b8e2f1c1dfa25873a",
       "version_major": 2,
       "version_minor": 0
      },
      "text/plain": [
       "VBox()"
      ]
     },
     "metadata": {},
     "output_type": "display_data"
    },
    {
     "data": {
      "application/vnd.jupyter.widget-view+json": {
       "model_id": "",
       "version_major": 2,
       "version_minor": 0
      },
      "text/plain": [
       "FloatProgress(value=0.0, bar_style='info', description='Progress:', layout=Layout(height='25px', width='50%'),…"
      ]
     },
     "metadata": {},
     "output_type": "display_data"
    },
    {
     "name": "stdout",
     "output_type": "stream",
     "text": [
      "['fecha_reporte_web', 'id_de_caso', 'fecha_de_notificaci_n', 'departamento', 'departamento_nom', 'ciudad_municipio', 'ciudad_municipio_nom', 'edad', 'unidad_medida', 'sexo', 'fuente_tipo_contagio', 'ubicacion', 'estado', 'pais_viajo_1_cod', 'pais_viajo_1_nom', 'recuperado', 'fecha_inicio_sintomas', 'fecha_muerte', 'fecha_diagnostico', 'fecha_recuperado', 'tipo_recuperacion', 'per_etn_', 'nom_grupo_']"
     ]
    }
   ],
   "source": [
    "# Vemos cuantas columnas hay\n",
    "df.columns"
   ]
  },
  {
   "cell_type": "code",
   "execution_count": 5,
   "metadata": {},
   "outputs": [
    {
     "data": {
      "application/vnd.jupyter.widget-view+json": {
       "model_id": "6e9b9a2ff50943f8a3273cbd586449f8",
       "version_major": 2,
       "version_minor": 0
      },
      "text/plain": [
       "VBox()"
      ]
     },
     "metadata": {},
     "output_type": "display_data"
    },
    {
     "data": {
      "application/vnd.jupyter.widget-view+json": {
       "model_id": "",
       "version_major": 2,
       "version_minor": 0
      },
      "text/plain": [
       "FloatProgress(value=0.0, bar_style='info', description='Progress:', layout=Layout(height='25px', width='50%'),…"
      ]
     },
     "metadata": {},
     "output_type": "display_data"
    },
    {
     "name": "stdout",
     "output_type": "stream",
     "text": [
      "1000"
     ]
    }
   ],
   "source": [
    "# Vemos cuantas filas (datos) hay\n",
    "df.count()"
   ]
  },
  {
   "cell_type": "code",
   "execution_count": 6,
   "metadata": {},
   "outputs": [
    {
     "data": {
      "application/vnd.jupyter.widget-view+json": {
       "model_id": "20172e4bed9146eca1a7ae95b3644252",
       "version_major": 2,
       "version_minor": 0
      },
      "text/plain": [
       "VBox()"
      ]
     },
     "metadata": {},
     "output_type": "display_data"
    },
    {
     "data": {
      "application/vnd.jupyter.widget-view+json": {
       "model_id": "",
       "version_major": 2,
       "version_minor": 0
      },
      "text/plain": [
       "FloatProgress(value=0.0, bar_style='info', description='Progress:', layout=Layout(height='25px', width='50%'),…"
      ]
     },
     "metadata": {},
     "output_type": "display_data"
    },
    {
     "name": "stdout",
     "output_type": "stream",
     "text": [
      "root\n",
      " |-- fecha_reporte_web: string (nullable = true)\n",
      " |-- id_de_caso: integer (nullable = true)\n",
      " |-- fecha_de_notificaci_n: string (nullable = true)\n",
      " |-- departamento: integer (nullable = true)\n",
      " |-- departamento_nom: string (nullable = true)\n",
      " |-- ciudad_municipio: integer (nullable = true)\n",
      " |-- ciudad_municipio_nom: string (nullable = true)\n",
      " |-- edad: integer (nullable = true)\n",
      " |-- unidad_medida: integer (nullable = true)\n",
      " |-- sexo: string (nullable = true)\n",
      " |-- fuente_tipo_contagio: string (nullable = true)\n",
      " |-- ubicacion: string (nullable = true)\n",
      " |-- estado: string (nullable = true)\n",
      " |-- pais_viajo_1_cod: integer (nullable = true)\n",
      " |-- pais_viajo_1_nom: string (nullable = true)\n",
      " |-- recuperado: string (nullable = true)\n",
      " |-- fecha_inicio_sintomas: string (nullable = true)\n",
      " |-- fecha_muerte: string (nullable = true)\n",
      " |-- fecha_diagnostico: string (nullable = true)\n",
      " |-- fecha_recuperado: string (nullable = true)\n",
      " |-- tipo_recuperacion: string (nullable = true)\n",
      " |-- per_etn_: integer (nullable = true)\n",
      " |-- nom_grupo_: string (nullable = true)"
     ]
    }
   ],
   "source": [
    "# Vemos el esquema de los datos\n",
    "df.printSchema()"
   ]
  },
  {
   "cell_type": "code",
   "execution_count": 19,
   "metadata": {},
   "outputs": [
    {
     "data": {
      "application/vnd.jupyter.widget-view+json": {
       "model_id": "210733680fa14a6fab3bee275de8ce72",
       "version_major": 2,
       "version_minor": 0
      },
      "text/plain": [
       "VBox()"
      ]
     },
     "metadata": {},
     "output_type": "display_data"
    },
    {
     "data": {
      "application/vnd.jupyter.widget-view+json": {
       "model_id": "",
       "version_major": 2,
       "version_minor": 0
      },
      "text/plain": [
       "FloatProgress(value=0.0, bar_style='info', description='Progress:', layout=Layout(height='25px', width='50%'),…"
      ]
     },
     "metadata": {},
     "output_type": "display_data"
    },
    {
     "name": "stdout",
     "output_type": "stream",
     "text": [
      "+----+----+-----+\n",
      "|sexo|edad|count|\n",
      "+----+----+-----+\n",
      "|F   |30  |20   |\n",
      "|M   |28  |19   |\n",
      "|M   |29  |18   |\n",
      "|M   |35  |17   |\n",
      "|M   |32  |17   |\n",
      "|F   |42  |16   |\n",
      "|M   |41  |15   |\n",
      "|M   |26  |15   |\n",
      "|F   |50  |14   |\n",
      "|M   |25  |14   |\n",
      "|M   |54  |14   |\n",
      "|F   |26  |14   |\n",
      "|M   |33  |14   |\n",
      "|F   |33  |14   |\n",
      "|M   |31  |13   |\n",
      "|M   |30  |13   |\n",
      "|M   |37  |13   |\n",
      "|F   |32  |13   |\n",
      "|M   |50  |13   |\n",
      "|F   |47  |13   |\n",
      "|F   |28  |12   |\n",
      "|M   |36  |12   |\n",
      "|F   |45  |12   |\n",
      "|F   |21  |12   |\n",
      "|F   |23  |12   |\n",
      "|M   |38  |12   |\n",
      "|M   |58  |12   |\n",
      "|M   |51  |12   |\n",
      "|M   |45  |11   |\n",
      "|F   |24  |11   |\n",
      "|M   |27  |11   |\n",
      "|F   |57  |11   |\n",
      "|F   |58  |11   |\n",
      "|M   |34  |11   |\n",
      "|F   |44  |11   |\n",
      "|F   |29  |10   |\n",
      "|F   |39  |10   |\n",
      "|M   |21  |10   |\n",
      "|M   |24  |10   |\n",
      "|F   |38  |10   |\n",
      "|F   |22  |10   |\n",
      "|F   |34  |9    |\n",
      "|F   |55  |9    |\n",
      "|F   |61  |9    |\n",
      "|F   |43  |8    |\n",
      "|F   |31  |8    |\n",
      "|F   |19  |8    |\n",
      "|M   |64  |8    |\n",
      "|M   |46  |8    |\n",
      "|M   |42  |8    |\n",
      "|F   |51  |8    |\n",
      "|M   |59  |8    |\n",
      "|M   |52  |8    |\n",
      "|M   |39  |8    |\n",
      "|F   |48  |8    |\n",
      "|F   |25  |8    |\n",
      "|M   |57  |7    |\n",
      "|F   |62  |7    |\n",
      "|M   |49  |7    |\n",
      "|M   |61  |7    |\n",
      "|M   |56  |7    |\n",
      "|F   |49  |7    |\n",
      "|M   |48  |7    |\n",
      "|M   |40  |7    |\n",
      "|F   |36  |7    |\n",
      "|F   |37  |7    |\n",
      "|F   |53  |7    |\n",
      "|M   |47  |7    |\n",
      "|M   |62  |6    |\n",
      "|M   |72  |6    |\n",
      "|F   |54  |6    |\n",
      "|F   |35  |6    |\n",
      "|F   |63  |6    |\n",
      "|M   |65  |6    |\n",
      "|F   |27  |6    |\n",
      "|F   |68  |6    |\n",
      "|M   |18  |6    |\n",
      "|F   |40  |6    |\n",
      "|F   |65  |5    |\n",
      "|F   |18  |5    |\n",
      "|F   |64  |5    |\n",
      "|F   |46  |5    |\n",
      "|F   |41  |5    |\n",
      "|M   |55  |5    |\n",
      "|F   |60  |5    |\n",
      "|F   |67  |5    |\n",
      "|M   |70  |5    |\n",
      "|M   |44  |5    |\n",
      "|M   |22  |5    |\n",
      "|F   |56  |5    |\n",
      "|M   |53  |4    |\n",
      "|M   |9   |4    |\n",
      "|F   |73  |4    |\n",
      "|F   |74  |4    |\n",
      "|F   |52  |4    |\n",
      "|F   |16  |4    |\n",
      "|M   |60  |4    |\n",
      "|M   |23  |4    |\n",
      "|M   |73  |4    |\n",
      "|M   |20  |4    |\n",
      "|M   |63  |4    |\n",
      "|M   |43  |4    |\n",
      "|F   |70  |3    |\n",
      "|M   |69  |3    |\n",
      "|M   |19  |3    |\n",
      "|F   |69  |3    |\n",
      "|M   |84  |3    |\n",
      "|M   |68  |3    |\n",
      "|F   |15  |3    |\n",
      "|F   |80  |3    |\n",
      "|M   |80  |3    |\n",
      "|M   |79  |3    |\n",
      "|F   |72  |3    |\n",
      "|M   |66  |3    |\n",
      "|F   |81  |2    |\n",
      "|M   |88  |2    |\n",
      "|M   |77  |2    |\n",
      "|M   |71  |2    |\n",
      "|M   |74  |2    |\n",
      "|F   |76  |2    |\n",
      "|M   |2   |2    |\n",
      "|M   |16  |2    |\n",
      "|F   |66  |2    |\n",
      "|F   |20  |2    |\n",
      "|M   |82  |2    |\n",
      "|F   |83  |2    |\n",
      "|F   |84  |2    |\n",
      "|M   |87  |2    |\n",
      "|F   |2   |2    |\n",
      "|M   |15  |2    |\n",
      "|M   |17  |2    |\n",
      "|F   |82  |2    |\n",
      "|F   |9   |1    |\n",
      "|M   |1   |1    |\n",
      "|F   |71  |1    |\n",
      "|M   |12  |1    |\n",
      "|F   |6   |1    |\n",
      "|F   |3   |1    |\n",
      "|F   |5   |1    |\n",
      "|F   |17  |1    |\n",
      "|M   |6   |1    |\n",
      "|M   |83  |1    |\n",
      "|M   |81  |1    |\n",
      "|F   |75  |1    |\n",
      "|F   |85  |1    |\n",
      "|M   |76  |1    |\n",
      "|M   |85  |1    |\n",
      "|F   |59  |1    |\n",
      "|F   |8   |1    |\n",
      "|M   |67  |1    |\n",
      "|M   |4   |1    |\n",
      "|M   |13  |1    |\n",
      "|F   |12  |1    |\n",
      "+----+----+-----+"
     ]
    }
   ],
   "source": [
    "# Agrupamos por genero y edad y ordenamos de mayor a menor\n",
    "df.groupBy(['sexo','edad']).count().orderBy('count',ascending=False).show(df.count(), False)"
   ]
  },
  {
   "cell_type": "code",
   "execution_count": 16,
   "metadata": {},
   "outputs": [
    {
     "data": {
      "application/vnd.jupyter.widget-view+json": {
       "model_id": "1710e4d3ffba4aad82b24bd70ef79099",
       "version_major": 2,
       "version_minor": 0
      },
      "text/plain": [
       "VBox()"
      ]
     },
     "metadata": {},
     "output_type": "display_data"
    },
    {
     "data": {
      "application/vnd.jupyter.widget-view+json": {
       "model_id": "",
       "version_major": 2,
       "version_minor": 0
      },
      "text/plain": [
       "FloatProgress(value=0.0, bar_style='info', description='Progress:', layout=Layout(height='25px', width='50%'),…"
      ]
     },
     "metadata": {},
     "output_type": "display_data"
    },
    {
     "name": "stdout",
     "output_type": "stream",
     "text": [
      "+----------------+-----+\n",
      "|departamento_nom|count|\n",
      "+----------------+-----+\n",
      "|BOGOTA          |401  |\n",
      "|VALLE           |148  |\n",
      "|ANTIOQUIA       |106  |\n",
      "|CUNDINAMARCA    |49   |\n",
      "|CARTAGENA       |39   |\n",
      "|RISARALDA       |34   |\n",
      "|BARRANQUILLA    |31   |\n",
      "|HUILA           |30   |\n",
      "|QUINDIO         |23   |\n",
      "|NORTE SANTANDER |19   |\n",
      "|CESAR           |16   |\n",
      "|CALDAS          |15   |\n",
      "|TOLIMA          |14   |\n",
      "|CAUCA           |12   |\n",
      "|META            |12   |\n",
      "|SANTANDER       |12   |\n",
      "|STA MARTA D.E.  |11   |\n",
      "|NARIÑO          |6    |\n",
      "|BOYACA          |6    |\n",
      "|ATLANTICO       |4    |\n",
      "|BOLIVAR         |3    |\n",
      "|CASANARE        |2    |\n",
      "|CORDOBA         |2    |\n",
      "|SAN ANDRES      |2    |\n",
      "|SUCRE           |1    |\n",
      "|MAGDALENA       |1    |\n",
      "|GUAJIRA         |1    |\n",
      "+----------------+-----+"
     ]
    }
   ],
   "source": [
    "# Vemos cuantos casos hay por departamento\n",
    "df.groupBy('departamento_nom').count().orderBy('count',ascending=False).show(30, False)"
   ]
  },
  {
   "cell_type": "code",
   "execution_count": 22,
   "metadata": {},
   "outputs": [
    {
     "data": {
      "application/vnd.jupyter.widget-view+json": {
       "model_id": "a8b2b1925889499ba0c6aa2b28ea6045",
       "version_major": 2,
       "version_minor": 0
      },
      "text/plain": [
       "VBox()"
      ]
     },
     "metadata": {},
     "output_type": "display_data"
    },
    {
     "data": {
      "application/vnd.jupyter.widget-view+json": {
       "model_id": "",
       "version_major": 2,
       "version_minor": 0
      },
      "text/plain": [
       "FloatProgress(value=0.0, bar_style='info', description='Progress:', layout=Layout(height='25px', width='50%'),…"
      ]
     },
     "metadata": {},
     "output_type": "display_data"
    },
    {
     "name": "stdout",
     "output_type": "stream",
     "text": [
      "+----+----------------+-----+\n",
      "|sexo|departamento_nom|count|\n",
      "+----+----------------+-----+\n",
      "|M   |BOGOTA          |14   |\n",
      "|F   |BOGOTA          |8    |\n",
      "|M   |VALLE           |5    |\n",
      "|F   |VALLE           |3    |\n",
      "|M   |BARRANQUILLA    |2    |\n",
      "|F   |HUILA           |2    |\n",
      "|F   |CUNDINAMARCA    |2    |\n",
      "|F   |CARTAGENA       |2    |\n",
      "|M   |ANTIOQUIA       |1    |\n",
      "|M   |BOYACA          |1    |\n",
      "|M   |ATLANTICO       |1    |\n",
      "|M   |CUNDINAMARCA    |1    |\n",
      "|F   |CAUCA           |1    |\n",
      "|M   |CESAR           |1    |\n",
      "|M   |RISARALDA       |1    |\n",
      "|M   |CARTAGENA       |1    |\n",
      "|M   |STA MARTA D.E.  |1    |\n",
      "|M   |NARIÑO          |1    |\n",
      "+----+----------------+-----+"
     ]
    }
   ],
   "source": [
    "# Vemos cuantos fallecidos hay por genero por departamento y ordenamos de mayor a menor\n",
    "df.filter(df['estado'] == 'Fallecido').groupBy(['sexo','departamento_nom']).count().orderBy('count',ascending=False).show(30, False)"
   ]
  },
  {
   "cell_type": "code",
   "execution_count": null,
   "metadata": {},
   "outputs": [],
   "source": []
  }
 ],
 "metadata": {
  "kernelspec": {
   "display_name": "PySpark",
   "language": "",
   "name": "pysparkkernel"
  },
  "language_info": {
   "codemirror_mode": {
    "name": "python",
    "version": 2
   },
   "mimetype": "text/x-python",
   "name": "pyspark",
   "pygments_lexer": "python2"
  }
 },
 "nbformat": 4,
 "nbformat_minor": 4
}
